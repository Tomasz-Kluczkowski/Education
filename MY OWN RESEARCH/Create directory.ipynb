{
 "cells": [
  {
   "cell_type": "code",
   "execution_count": 34,
   "metadata": {
    "collapsed": false
   },
   "outputs": [],
   "source": [
    "#!/usr/bin/python\n",
    "\n",
    "import os\n",
    "import stat\n",
    "import sys\n",
    "\n",
    "import appdirs\n",
    "\n",
    "from appdirs import AppDirs\n",
    "dirs = AppDirs(\"Database\", \"Weather_App\")\n",
    "\n",
    "path = dirs.user_data_dir\n",
    "\n",
    "\n",
    "# def setWritePermission(path):\n",
    "\n",
    "#     #set this folder to writeable\n",
    "#     os.chmod(path,stat.S_IWRITE)\n",
    "    \n",
    "#     #step through all the files/folders and change permissions\n",
    "#     for file_ in os.listdir(path):\n",
    "\n",
    "#         filePath = os.path.join(path,file_)\n",
    "\n",
    "#         #if it is a directory, doa recursive call\n",
    "#         if os.path.isdir(filePath):\n",
    "#             setWritePermission(filePath)\n",
    "\n",
    "#         #for files merely call chmod    \n",
    "#         else:\n",
    "#             os.chmod(filePath,stat.S_IWRITE)\n",
    "            \n",
    "# path = \"C:/Program Files (x86)/test/\"\n",
    "\n",
    "# setWritePermission(path)\n",
    "\n",
    "# Path to be created\n",
    "\n",
    "\n",
    "\n",
    "# os.mkdir(path + \"\\\\test\", 0o777)\n",
    "\n",
    "# print(\"Path is created\")\n",
    "\n",
    "def mkdirnotex(path):\n",
    "    os.makedirs(path, exist_ok=True)\n",
    "        \n",
    "mkdirnotex(path)"
   ]
  },
  {
   "cell_type": "code",
   "execution_count": 28,
   "metadata": {
    "collapsed": false
   },
   "outputs": [
    {
     "name": "stdout",
     "output_type": "stream",
     "text": [
      "C:\\Users\\Kilthar\\AppData\\Local\\Weather_App\\Database\n"
     ]
    }
   ],
   "source": [
    "from appdirs import AppDirs\n",
    "dirs = AppDirs(\"Database\", \"Weather_App\")\n",
    "print(dirs.user_data_dir)\n"
   ]
  },
  {
   "cell_type": "code",
   "execution_count": null,
   "metadata": {
    "collapsed": true
   },
   "outputs": [],
   "source": []
  }
 ],
 "metadata": {
  "kernelspec": {
   "display_name": "Python 3",
   "language": "python",
   "name": "python3"
  },
  "language_info": {
   "codemirror_mode": {
    "name": "ipython",
    "version": 3
   },
   "file_extension": ".py",
   "mimetype": "text/x-python",
   "name": "python",
   "nbconvert_exporter": "python",
   "pygments_lexer": "ipython3",
   "version": "3.6.1"
  }
 },
 "nbformat": 4,
 "nbformat_minor": 2
}
