{
 "cells": [
  {
   "cell_type": "code",
   "execution_count": 8,
   "metadata": {
    "collapsed": false,
    "deletable": true,
    "editable": true
   },
   "outputs": [],
   "source": [
    "from bokeh.charts import Scatter, output_file, show\n",
    "import pandas\n",
    "df = pandas.DataFrame(columns=[\"X\", \"Y\"])\n",
    "df[\"X\"] = [1, 2, 3 ,4 ,5]\n",
    "df[\"Y\"] = [5, 6, 4, 5, 3]\n",
    "\n",
    "p = Scatter(df, x=\"X\", y=\"Y\", title=\"Temperature Observations\", xlabel=\"Day of observations\", ylabel=\"Temperature\")\n",
    "\n",
    "output_file(\"Scatter_charts.html\")\n",
    "show(p)"
   ]
  },
  {
   "cell_type": "code",
   "execution_count": 6,
   "metadata": {
    "collapsed": false,
    "deletable": true,
    "editable": true
   },
   "outputs": [],
   "source": [
    "from bokeh.plotting import figure, output_file, show\n",
    "p = figure(plot_width=500, plot_height=400, tools=\"\", logo=None)\n",
    "\n",
    "# p.title = \"Earthquake\"\n",
    "# p.title_text_color=\"Orange\"\n",
    "\n",
    "xlist = [1,2,3,4,5]\n",
    "ylist = [8,6,5,2,9]\n",
    "p.yaxis.minor_tick_line_color = None\n",
    "p.xaxis.axis_label = \"Times\"\n",
    "p.yaxis.axis_label = \"Value\"\n",
    "p.circle(xlist, ylist, size=[i*4 for i in ylist], color=\"red\", alpha=0.5)\n",
    "output_file(\"Scatter_plotting.html\")\n",
    "show(p)"
   ]
  },
  {
   "cell_type": "code",
   "execution_count": 7,
   "metadata": {
    "collapsed": true,
    "deletable": true,
    "editable": true
   },
   "outputs": [],
   "source": [
    "from bokeh.plotting import figure, output_file, show\n",
    "import pandas\n",
    "\n",
    "url = \"http://www.google.com/finance/historical?q=NASDAQ:ADBE&startdate=Jan+01%2C+2009&enddate=Aug+2%2C+2012&output=csv\"\n",
    "\n",
    "df = pandas.read_csv(url, parse_dates=[\"Date\"])\n",
    "\n",
    "p = figure(width=500, height=250, x_axis_type=\"datetime\", responsive=True)\n",
    "p.line(df[\"Date\"], df[\"Close\"], color=\"Orange\", alpha=0.5)\n",
    "\n",
    "output_file(\"Timeseries.html\")\n",
    "show(p)"
   ]
  },
  {
   "cell_type": "code",
   "execution_count": null,
   "metadata": {
    "collapsed": true
   },
   "outputs": [],
   "source": []
  }
 ],
 "metadata": {
  "kernelspec": {
   "display_name": "Python 3",
   "language": "python",
   "name": "python3"
  },
  "language_info": {
   "codemirror_mode": {
    "name": "ipython",
    "version": 3
   },
   "file_extension": ".py",
   "mimetype": "text/x-python",
   "name": "python",
   "nbconvert_exporter": "python",
   "pygments_lexer": "ipython3",
   "version": "3.6.1"
  }
 },
 "nbformat": 4,
 "nbformat_minor": 2
}
