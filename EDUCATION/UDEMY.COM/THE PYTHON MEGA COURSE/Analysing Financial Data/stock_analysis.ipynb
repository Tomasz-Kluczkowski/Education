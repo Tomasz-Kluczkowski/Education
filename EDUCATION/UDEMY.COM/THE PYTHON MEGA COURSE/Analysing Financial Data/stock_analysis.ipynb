{
 "cells": [
  {
   "cell_type": "code",
   "execution_count": 5,
   "metadata": {},
   "outputs": [
    {
     "data": {
      "text/html": [
       "<div>\n",
       "<table border=\"1\" class=\"dataframe\">\n",
       "  <thead>\n",
       "    <tr style=\"text-align: right;\">\n",
       "      <th></th>\n",
       "      <th>Open</th>\n",
       "      <th>High</th>\n",
       "      <th>Low</th>\n",
       "      <th>Close</th>\n",
       "      <th>Volume</th>\n",
       "    </tr>\n",
       "    <tr>\n",
       "      <th>Date</th>\n",
       "      <th></th>\n",
       "      <th></th>\n",
       "      <th></th>\n",
       "      <th></th>\n",
       "      <th></th>\n",
       "    </tr>\n",
       "  </thead>\n",
       "  <tbody>\n",
       "    <tr>\n",
       "      <th>2016-03-01</th>\n",
       "      <td>703.62</td>\n",
       "      <td>718.81</td>\n",
       "      <td>699.77</td>\n",
       "      <td>718.81</td>\n",
       "      <td>2147442</td>\n",
       "    </tr>\n",
       "    <tr>\n",
       "      <th>2016-03-02</th>\n",
       "      <td>719.00</td>\n",
       "      <td>720.00</td>\n",
       "      <td>712.00</td>\n",
       "      <td>718.85</td>\n",
       "      <td>1627753</td>\n",
       "    </tr>\n",
       "    <tr>\n",
       "      <th>2016-03-03</th>\n",
       "      <td>718.68</td>\n",
       "      <td>719.45</td>\n",
       "      <td>706.02</td>\n",
       "      <td>712.42</td>\n",
       "      <td>1956761</td>\n",
       "    </tr>\n",
       "    <tr>\n",
       "      <th>2016-03-04</th>\n",
       "      <td>714.99</td>\n",
       "      <td>716.49</td>\n",
       "      <td>706.02</td>\n",
       "      <td>710.89</td>\n",
       "      <td>1967873</td>\n",
       "    </tr>\n",
       "    <tr>\n",
       "      <th>2016-03-07</th>\n",
       "      <td>706.90</td>\n",
       "      <td>708.09</td>\n",
       "      <td>686.90</td>\n",
       "      <td>695.16</td>\n",
       "      <td>2985094</td>\n",
       "    </tr>\n",
       "    <tr>\n",
       "      <th>2016-03-08</th>\n",
       "      <td>688.59</td>\n",
       "      <td>703.79</td>\n",
       "      <td>685.34</td>\n",
       "      <td>693.97</td>\n",
       "      <td>2063357</td>\n",
       "    </tr>\n",
       "    <tr>\n",
       "      <th>2016-03-09</th>\n",
       "      <td>698.47</td>\n",
       "      <td>705.68</td>\n",
       "      <td>694.00</td>\n",
       "      <td>705.24</td>\n",
       "      <td>1418704</td>\n",
       "    </tr>\n",
       "    <tr>\n",
       "      <th>2016-03-10</th>\n",
       "      <td>708.12</td>\n",
       "      <td>716.44</td>\n",
       "      <td>703.36</td>\n",
       "      <td>712.82</td>\n",
       "      <td>2829412</td>\n",
       "    </tr>\n",
       "  </tbody>\n",
       "</table>\n",
       "</div>"
      ],
      "text/plain": [
       "              Open    High     Low   Close   Volume\n",
       "Date                                               \n",
       "2016-03-01  703.62  718.81  699.77  718.81  2147442\n",
       "2016-03-02  719.00  720.00  712.00  718.85  1627753\n",
       "2016-03-03  718.68  719.45  706.02  712.42  1956761\n",
       "2016-03-04  714.99  716.49  706.02  710.89  1967873\n",
       "2016-03-07  706.90  708.09  686.90  695.16  2985094\n",
       "2016-03-08  688.59  703.79  685.34  693.97  2063357\n",
       "2016-03-09  698.47  705.68  694.00  705.24  1418704\n",
       "2016-03-10  708.12  716.44  703.36  712.82  2829412"
      ]
     },
     "execution_count": 5,
     "metadata": {},
     "output_type": "execute_result"
    }
   ],
   "source": [
    "import datetime\n",
    "from pandas_datareader import data\n",
    "from bokeh.plotting import figure, show, output_file\n",
    "\n",
    "start = datetime.datetime(2016,3,1)\n",
    "end = datetime.datetime(2016,3,10)\n",
    "\n",
    "df = data.DataReader(name=\"GOOG\", data_source=\"google\", start=start, end=end)\n",
    "df"
   ]
  },
  {
   "cell_type": "code",
   "execution_count": 7,
   "metadata": {},
   "outputs": [
    {
     "name": "stderr",
     "output_type": "stream",
     "text": [
      "c:\\program files\\python36\\lib\\site-packages\\bokeh\\models\\sources.py:91: BokehUserWarning: ColumnDataSource's columns must be of the same length. Current lengths: ('x', 4), ('y', 8)\n",
      "  \"Current lengths: %s\" % \", \".join(sorted(str((k, len(v))) for k, v in data.items())), BokehUserWarning))\n",
      "c:\\program files\\python36\\lib\\site-packages\\bokeh\\models\\sources.py:91: BokehUserWarning: ColumnDataSource's columns must be of the same length. Current lengths: ('height', 8), ('x', 4), ('y', 8)\n",
      "  \"Current lengths: %s\" % \", \".join(sorted(str((k, len(v))) for k, v in data.items())), BokehUserWarning))\n"
     ]
    }
   ],
   "source": [
    "p = figure(x_axis_type=\"datetime\", width=1000, height=300)\n",
    "# p.title = \"Candlestick Chart\"\n",
    "hours_12 = 12*60*60*1000\n",
    "p.rect(df.index[df.Close > df.Open], (df.Open + df.Close)/2, hours_12, abs(df.Open - df.Close))\n",
    "output_file(\"CS.html\")\n",
    "show(p)"
   ]
  },
  {
   "cell_type": "code",
   "execution_count": null,
   "metadata": {
    "collapsed": true
   },
   "outputs": [],
   "source": []
  }
 ],
 "metadata": {
  "kernelspec": {
   "display_name": "Python 3",
   "language": "python",
   "name": "python3"
  },
  "language_info": {
   "codemirror_mode": {
    "name": "ipython",
    "version": 3
   },
   "file_extension": ".py",
   "mimetype": "text/x-python",
   "name": "python",
   "nbconvert_exporter": "python",
   "pygments_lexer": "ipython3",
   "version": "3.6.0"
  }
 },
 "nbformat": 4,
 "nbformat_minor": 2
}
